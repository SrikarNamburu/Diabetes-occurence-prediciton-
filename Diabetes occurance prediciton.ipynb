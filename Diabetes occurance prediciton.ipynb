{
  "nbformat": 4,
  "nbformat_minor": 0,
  "metadata": {
    "kernelspec": {
      "name": "python3",
      "display_name": "Python 3"
    },
    "language_info": {
      "codemirror_mode": {
        "name": "ipython",
        "version": 3
      },
      "file_extension": ".py",
      "mimetype": "text/x-python",
      "name": "python",
      "nbconvert_exporter": "python",
      "pygments_lexer": "ipython3",
      "version": "3.6.6"
    },
    "colab": {
      "name": "CA1.ipynb",
      "provenance": [],
      "collapsed_sections": [
        "cGj6LKTLCUsR",
        "uTIWe7TfCwTI"
      ]
    }
  },
  "cells": [
    {
      "cell_type": "markdown",
      "metadata": {
        "id": "H16OJd2NKEz0",
        "colab_type": "text"
      },
      "source": [
        "#=====================Diabetics occurance prediction=================\n"
      ]
    },
    {
      "cell_type": "markdown",
      "metadata": {
        "_uuid": "e8459f4e9e52473b4fe8824724a87798e1946e02",
        "id": "gT5TFEFLAlBz",
        "colab_type": "text"
      },
      "source": [
        "# Data Exploration "
      ]
    },
    {
      "cell_type": "code",
      "metadata": {
        "_uuid": "f159da396824602d8ae73fc5cb08f84987ce91f6",
        "id": "dcJWDLfdAlBz",
        "colab_type": "code",
        "outputId": "12864424-7eba-4c7a-b347-27ed92c6c85f",
        "colab": {
          "base_uri": "https://localhost:8080/",
          "height": 72
        }
      },
      "source": [
        "#Loading libraries \n",
        "import pandas as pd\n",
        "import numpy as np\n",
        "import matplotlib.pyplot as plt\n",
        "import seaborn as sns\n",
        "import os \n",
        "from sklearn.model_selection import train_test_split\n",
        "from sklearn.linear_model import LogisticRegression\n",
        "from sklearn.model_selection import cross_val_score\n",
        "from sklearn.metrics import accuracy_score, precision_score, recall_score\n",
        "from imblearn.over_sampling import SMOTE\n",
        "import scipy as sp\n",
        "from xgboost.sklearn import XGBClassifier\n",
        "from collections import Counter\n",
        "from sklearn.neighbors import KNeighborsClassifier\n",
        "from sklearn.ensemble import RandomForestClassifier # Random forest classifier\n",
        "from sklearn.tree import DecisionTreeClassifier # for Decision Tree classifier\n",
        "from sklearn.metrics import precision_score, recall_score, f1_score, roc_auc_score, accuracy_score, classification_report"
      ],
      "execution_count": 1,
      "outputs": [
        {
          "output_type": "stream",
          "text": [
            "/usr/local/lib/python3.6/dist-packages/sklearn/externals/six.py:31: DeprecationWarning: The module is deprecated in version 0.21 and will be removed in version 0.23 since we've dropped support for Python 2.7. Please rely on the official version of six (https://pypi.org/project/six/).\n",
            "  \"(https://pypi.org/project/six/).\", DeprecationWarning)\n"
          ],
          "name": "stderr"
        }
      ]
    },
    {
      "cell_type": "code",
      "metadata": {
        "id": "kt6N_xDR3fLA",
        "colab_type": "code",
        "outputId": "0b081df0-c837-4723-abb4-f0cd42a26535",
        "colab": {
          "base_uri": "https://localhost:8080/",
          "height": 125
        }
      },
      "source": [
        "from google.colab import drive\n",
        "drive.mount('/content/gdrive')"
      ],
      "execution_count": 6,
      "outputs": [
        {
          "output_type": "stream",
          "text": [
            "Go to this URL in a browser: https://accounts.google.com/o/oauth2/auth?client_id=947318989803-6bn6qk8qdgf4n4g3pfee6491hc0brc4i.apps.googleusercontent.com&redirect_uri=urn%3Aietf%3Awg%3Aoauth%3A2.0%3Aoob&scope=email%20https%3A%2F%2Fwww.googleapis.com%2Fauth%2Fdocs.test%20https%3A%2F%2Fwww.googleapis.com%2Fauth%2Fdrive%20https%3A%2F%2Fwww.googleapis.com%2Fauth%2Fdrive.photos.readonly%20https%3A%2F%2Fwww.googleapis.com%2Fauth%2Fpeopleapi.readonly&response_type=code\n",
            "\n",
            "Enter your authorization code:\n",
            "··········\n",
            "Mounted at /content/gdrive\n"
          ],
          "name": "stdout"
        }
      ]
    },
    {
      "cell_type": "code",
      "metadata": {
        "id": "p2Bp3dNt3hut",
        "colab_type": "code",
        "outputId": "cd2cbc13-0e05-4d19-80f4-3ae4eb70ad7d",
        "colab": {
          "base_uri": "https://localhost:8080/",
          "height": 52
        }
      },
      "source": [
        "print(os.getcwd())\n",
        "os.chdir('gdrive/My Drive/Colab projects/CA1')\n",
        "!ls"
      ],
      "execution_count": 7,
      "outputs": [
        {
          "output_type": "stream",
          "text": [
            "/content\n",
            "CA1.ipynb  diabetes.csv  diabetic_data.csv  IDs_mapping.csv  temp.ipynb\n"
          ],
          "name": "stdout"
        }
      ]
    },
    {
      "cell_type": "code",
      "metadata": {
        "_uuid": "d2d61c7050ae4bf21dd0c5e84949ed951483312d",
        "id": "TqDE4E-rAlB1",
        "colab_type": "code",
        "outputId": "5da182f5-c2a3-4318-80d9-03b0423450de",
        "colab": {
          "base_uri": "https://localhost:8080/",
          "height": 52
        }
      },
      "source": [
        "#loading Dataset\n",
        "df = pd.read_csv(\"diabetic_data.csv\", na_values='?')\n",
        "ID = pd.read_csv('IDs_mapping.csv')"
      ],
      "execution_count": 8,
      "outputs": [
        {
          "output_type": "stream",
          "text": [
            "/usr/local/lib/python3.6/dist-packages/IPython/core/interactiveshell.py:2718: DtypeWarning: Columns (10) have mixed types. Specify dtype option on import or set low_memory=False.\n",
            "  interactivity=interactivity, compiler=compiler, result=result)\n"
          ],
          "name": "stderr"
        }
      ]
    },
    {
      "cell_type": "code",
      "metadata": {
        "_uuid": "06c7f80de93a3640a4cdaafc392374cdaf3d4e23",
        "id": "12nfDcTpAlB3",
        "colab_type": "code",
        "outputId": "6ced3a4a-0bba-4175-faa7-9c9a67870ec2",
        "colab": {
          "base_uri": "https://localhost:8080/",
          "height": 326
        }
      },
      "source": [
        "#displaying first 5 rows of data\n",
        "df.head(5)"
      ],
      "execution_count": 9,
      "outputs": [
        {
          "output_type": "execute_result",
          "data": {
            "text/html": [
              "<div>\n",
              "<style scoped>\n",
              "    .dataframe tbody tr th:only-of-type {\n",
              "        vertical-align: middle;\n",
              "    }\n",
              "\n",
              "    .dataframe tbody tr th {\n",
              "        vertical-align: top;\n",
              "    }\n",
              "\n",
              "    .dataframe thead th {\n",
              "        text-align: right;\n",
              "    }\n",
              "</style>\n",
              "<table border=\"1\" class=\"dataframe\">\n",
              "  <thead>\n",
              "    <tr style=\"text-align: right;\">\n",
              "      <th></th>\n",
              "      <th>encounter_id</th>\n",
              "      <th>patient_nbr</th>\n",
              "      <th>race</th>\n",
              "      <th>gender</th>\n",
              "      <th>age</th>\n",
              "      <th>weight</th>\n",
              "      <th>admission_type_id</th>\n",
              "      <th>discharge_disposition_id</th>\n",
              "      <th>admission_source_id</th>\n",
              "      <th>time_in_hospital</th>\n",
              "      <th>payer_code</th>\n",
              "      <th>medical_specialty</th>\n",
              "      <th>num_lab_procedures</th>\n",
              "      <th>num_procedures</th>\n",
              "      <th>num_medications</th>\n",
              "      <th>number_outpatient</th>\n",
              "      <th>number_emergency</th>\n",
              "      <th>number_inpatient</th>\n",
              "      <th>diag_1</th>\n",
              "      <th>diag_2</th>\n",
              "      <th>diag_3</th>\n",
              "      <th>number_diagnoses</th>\n",
              "      <th>max_glu_serum</th>\n",
              "      <th>A1Cresult</th>\n",
              "      <th>metformin</th>\n",
              "      <th>repaglinide</th>\n",
              "      <th>nateglinide</th>\n",
              "      <th>chlorpropamide</th>\n",
              "      <th>glimepiride</th>\n",
              "      <th>acetohexamide</th>\n",
              "      <th>glipizide</th>\n",
              "      <th>glyburide</th>\n",
              "      <th>tolbutamide</th>\n",
              "      <th>pioglitazone</th>\n",
              "      <th>rosiglitazone</th>\n",
              "      <th>acarbose</th>\n",
              "      <th>miglitol</th>\n",
              "      <th>troglitazone</th>\n",
              "      <th>tolazamide</th>\n",
              "      <th>examide</th>\n",
              "      <th>citoglipton</th>\n",
              "      <th>insulin</th>\n",
              "      <th>glyburide-metformin</th>\n",
              "      <th>glipizide-metformin</th>\n",
              "      <th>glimepiride-pioglitazone</th>\n",
              "      <th>metformin-rosiglitazone</th>\n",
              "      <th>metformin-pioglitazone</th>\n",
              "      <th>change</th>\n",
              "      <th>diabetesMed</th>\n",
              "      <th>readmitted</th>\n",
              "    </tr>\n",
              "  </thead>\n",
              "  <tbody>\n",
              "    <tr>\n",
              "      <th>0</th>\n",
              "      <td>2278392</td>\n",
              "      <td>8222157</td>\n",
              "      <td>Caucasian</td>\n",
              "      <td>Female</td>\n",
              "      <td>[0-10)</td>\n",
              "      <td>NaN</td>\n",
              "      <td>6</td>\n",
              "      <td>25</td>\n",
              "      <td>1</td>\n",
              "      <td>1</td>\n",
              "      <td>NaN</td>\n",
              "      <td>Pediatrics-Endocrinology</td>\n",
              "      <td>41</td>\n",
              "      <td>0</td>\n",
              "      <td>1</td>\n",
              "      <td>0</td>\n",
              "      <td>0</td>\n",
              "      <td>0</td>\n",
              "      <td>250.83</td>\n",
              "      <td>NaN</td>\n",
              "      <td>NaN</td>\n",
              "      <td>1</td>\n",
              "      <td>None</td>\n",
              "      <td>None</td>\n",
              "      <td>No</td>\n",
              "      <td>No</td>\n",
              "      <td>No</td>\n",
              "      <td>No</td>\n",
              "      <td>No</td>\n",
              "      <td>No</td>\n",
              "      <td>No</td>\n",
              "      <td>No</td>\n",
              "      <td>No</td>\n",
              "      <td>No</td>\n",
              "      <td>No</td>\n",
              "      <td>No</td>\n",
              "      <td>No</td>\n",
              "      <td>No</td>\n",
              "      <td>No</td>\n",
              "      <td>No</td>\n",
              "      <td>No</td>\n",
              "      <td>No</td>\n",
              "      <td>No</td>\n",
              "      <td>No</td>\n",
              "      <td>No</td>\n",
              "      <td>No</td>\n",
              "      <td>No</td>\n",
              "      <td>No</td>\n",
              "      <td>No</td>\n",
              "      <td>NO</td>\n",
              "    </tr>\n",
              "    <tr>\n",
              "      <th>1</th>\n",
              "      <td>149190</td>\n",
              "      <td>55629189</td>\n",
              "      <td>Caucasian</td>\n",
              "      <td>Female</td>\n",
              "      <td>[10-20)</td>\n",
              "      <td>NaN</td>\n",
              "      <td>1</td>\n",
              "      <td>1</td>\n",
              "      <td>7</td>\n",
              "      <td>3</td>\n",
              "      <td>NaN</td>\n",
              "      <td>NaN</td>\n",
              "      <td>59</td>\n",
              "      <td>0</td>\n",
              "      <td>18</td>\n",
              "      <td>0</td>\n",
              "      <td>0</td>\n",
              "      <td>0</td>\n",
              "      <td>276</td>\n",
              "      <td>250.01</td>\n",
              "      <td>255</td>\n",
              "      <td>9</td>\n",
              "      <td>None</td>\n",
              "      <td>None</td>\n",
              "      <td>No</td>\n",
              "      <td>No</td>\n",
              "      <td>No</td>\n",
              "      <td>No</td>\n",
              "      <td>No</td>\n",
              "      <td>No</td>\n",
              "      <td>No</td>\n",
              "      <td>No</td>\n",
              "      <td>No</td>\n",
              "      <td>No</td>\n",
              "      <td>No</td>\n",
              "      <td>No</td>\n",
              "      <td>No</td>\n",
              "      <td>No</td>\n",
              "      <td>No</td>\n",
              "      <td>No</td>\n",
              "      <td>No</td>\n",
              "      <td>Up</td>\n",
              "      <td>No</td>\n",
              "      <td>No</td>\n",
              "      <td>No</td>\n",
              "      <td>No</td>\n",
              "      <td>No</td>\n",
              "      <td>Ch</td>\n",
              "      <td>Yes</td>\n",
              "      <td>&gt;30</td>\n",
              "    </tr>\n",
              "    <tr>\n",
              "      <th>2</th>\n",
              "      <td>64410</td>\n",
              "      <td>86047875</td>\n",
              "      <td>AfricanAmerican</td>\n",
              "      <td>Female</td>\n",
              "      <td>[20-30)</td>\n",
              "      <td>NaN</td>\n",
              "      <td>1</td>\n",
              "      <td>1</td>\n",
              "      <td>7</td>\n",
              "      <td>2</td>\n",
              "      <td>NaN</td>\n",
              "      <td>NaN</td>\n",
              "      <td>11</td>\n",
              "      <td>5</td>\n",
              "      <td>13</td>\n",
              "      <td>2</td>\n",
              "      <td>0</td>\n",
              "      <td>1</td>\n",
              "      <td>648</td>\n",
              "      <td>250</td>\n",
              "      <td>V27</td>\n",
              "      <td>6</td>\n",
              "      <td>None</td>\n",
              "      <td>None</td>\n",
              "      <td>No</td>\n",
              "      <td>No</td>\n",
              "      <td>No</td>\n",
              "      <td>No</td>\n",
              "      <td>No</td>\n",
              "      <td>No</td>\n",
              "      <td>Steady</td>\n",
              "      <td>No</td>\n",
              "      <td>No</td>\n",
              "      <td>No</td>\n",
              "      <td>No</td>\n",
              "      <td>No</td>\n",
              "      <td>No</td>\n",
              "      <td>No</td>\n",
              "      <td>No</td>\n",
              "      <td>No</td>\n",
              "      <td>No</td>\n",
              "      <td>No</td>\n",
              "      <td>No</td>\n",
              "      <td>No</td>\n",
              "      <td>No</td>\n",
              "      <td>No</td>\n",
              "      <td>No</td>\n",
              "      <td>No</td>\n",
              "      <td>Yes</td>\n",
              "      <td>NO</td>\n",
              "    </tr>\n",
              "    <tr>\n",
              "      <th>3</th>\n",
              "      <td>500364</td>\n",
              "      <td>82442376</td>\n",
              "      <td>Caucasian</td>\n",
              "      <td>Male</td>\n",
              "      <td>[30-40)</td>\n",
              "      <td>NaN</td>\n",
              "      <td>1</td>\n",
              "      <td>1</td>\n",
              "      <td>7</td>\n",
              "      <td>2</td>\n",
              "      <td>NaN</td>\n",
              "      <td>NaN</td>\n",
              "      <td>44</td>\n",
              "      <td>1</td>\n",
              "      <td>16</td>\n",
              "      <td>0</td>\n",
              "      <td>0</td>\n",
              "      <td>0</td>\n",
              "      <td>8</td>\n",
              "      <td>250.43</td>\n",
              "      <td>403</td>\n",
              "      <td>7</td>\n",
              "      <td>None</td>\n",
              "      <td>None</td>\n",
              "      <td>No</td>\n",
              "      <td>No</td>\n",
              "      <td>No</td>\n",
              "      <td>No</td>\n",
              "      <td>No</td>\n",
              "      <td>No</td>\n",
              "      <td>No</td>\n",
              "      <td>No</td>\n",
              "      <td>No</td>\n",
              "      <td>No</td>\n",
              "      <td>No</td>\n",
              "      <td>No</td>\n",
              "      <td>No</td>\n",
              "      <td>No</td>\n",
              "      <td>No</td>\n",
              "      <td>No</td>\n",
              "      <td>No</td>\n",
              "      <td>Up</td>\n",
              "      <td>No</td>\n",
              "      <td>No</td>\n",
              "      <td>No</td>\n",
              "      <td>No</td>\n",
              "      <td>No</td>\n",
              "      <td>Ch</td>\n",
              "      <td>Yes</td>\n",
              "      <td>NO</td>\n",
              "    </tr>\n",
              "    <tr>\n",
              "      <th>4</th>\n",
              "      <td>16680</td>\n",
              "      <td>42519267</td>\n",
              "      <td>Caucasian</td>\n",
              "      <td>Male</td>\n",
              "      <td>[40-50)</td>\n",
              "      <td>NaN</td>\n",
              "      <td>1</td>\n",
              "      <td>1</td>\n",
              "      <td>7</td>\n",
              "      <td>1</td>\n",
              "      <td>NaN</td>\n",
              "      <td>NaN</td>\n",
              "      <td>51</td>\n",
              "      <td>0</td>\n",
              "      <td>8</td>\n",
              "      <td>0</td>\n",
              "      <td>0</td>\n",
              "      <td>0</td>\n",
              "      <td>197</td>\n",
              "      <td>157</td>\n",
              "      <td>250</td>\n",
              "      <td>5</td>\n",
              "      <td>None</td>\n",
              "      <td>None</td>\n",
              "      <td>No</td>\n",
              "      <td>No</td>\n",
              "      <td>No</td>\n",
              "      <td>No</td>\n",
              "      <td>No</td>\n",
              "      <td>No</td>\n",
              "      <td>Steady</td>\n",
              "      <td>No</td>\n",
              "      <td>No</td>\n",
              "      <td>No</td>\n",
              "      <td>No</td>\n",
              "      <td>No</td>\n",
              "      <td>No</td>\n",
              "      <td>No</td>\n",
              "      <td>No</td>\n",
              "      <td>No</td>\n",
              "      <td>No</td>\n",
              "      <td>Steady</td>\n",
              "      <td>No</td>\n",
              "      <td>No</td>\n",
              "      <td>No</td>\n",
              "      <td>No</td>\n",
              "      <td>No</td>\n",
              "      <td>Ch</td>\n",
              "      <td>Yes</td>\n",
              "      <td>NO</td>\n",
              "    </tr>\n",
              "  </tbody>\n",
              "</table>\n",
              "</div>"
            ],
            "text/plain": [
              "   encounter_id  patient_nbr             race  ... change diabetesMed readmitted\n",
              "0       2278392      8222157        Caucasian  ...     No          No         NO\n",
              "1        149190     55629189        Caucasian  ...     Ch         Yes        >30\n",
              "2         64410     86047875  AfricanAmerican  ...     No         Yes         NO\n",
              "3        500364     82442376        Caucasian  ...     Ch         Yes         NO\n",
              "4         16680     42519267        Caucasian  ...     Ch         Yes         NO\n",
              "\n",
              "[5 rows x 50 columns]"
            ]
          },
          "metadata": {
            "tags": []
          },
          "execution_count": 9
        }
      ]
    },
    {
      "cell_type": "code",
      "metadata": {
        "id": "8iX7CyL47qJE",
        "colab_type": "code",
        "outputId": "f058a04f-1483-495b-8328-8fcb2179c86a",
        "colab": {
          "base_uri": "https://localhost:8080/",
          "height": 203
        }
      },
      "source": [
        "# Displaying a few rows of ID, ID data gives more information about diabetic data!\n",
        "ID.head()"
      ],
      "execution_count": 10,
      "outputs": [
        {
          "output_type": "execute_result",
          "data": {
            "text/html": [
              "<div>\n",
              "<style scoped>\n",
              "    .dataframe tbody tr th:only-of-type {\n",
              "        vertical-align: middle;\n",
              "    }\n",
              "\n",
              "    .dataframe tbody tr th {\n",
              "        vertical-align: top;\n",
              "    }\n",
              "\n",
              "    .dataframe thead th {\n",
              "        text-align: right;\n",
              "    }\n",
              "</style>\n",
              "<table border=\"1\" class=\"dataframe\">\n",
              "  <thead>\n",
              "    <tr style=\"text-align: right;\">\n",
              "      <th></th>\n",
              "      <th>admission_type_id</th>\n",
              "      <th>description</th>\n",
              "    </tr>\n",
              "  </thead>\n",
              "  <tbody>\n",
              "    <tr>\n",
              "      <th>0</th>\n",
              "      <td>1</td>\n",
              "      <td>Emergency</td>\n",
              "    </tr>\n",
              "    <tr>\n",
              "      <th>1</th>\n",
              "      <td>2</td>\n",
              "      <td>Urgent</td>\n",
              "    </tr>\n",
              "    <tr>\n",
              "      <th>2</th>\n",
              "      <td>3</td>\n",
              "      <td>Elective</td>\n",
              "    </tr>\n",
              "    <tr>\n",
              "      <th>3</th>\n",
              "      <td>4</td>\n",
              "      <td>Newborn</td>\n",
              "    </tr>\n",
              "    <tr>\n",
              "      <th>4</th>\n",
              "      <td>5</td>\n",
              "      <td>Not Available</td>\n",
              "    </tr>\n",
              "  </tbody>\n",
              "</table>\n",
              "</div>"
            ],
            "text/plain": [
              "  admission_type_id    description\n",
              "0                 1      Emergency\n",
              "1                 2         Urgent\n",
              "2                 3       Elective\n",
              "3                 4        Newborn\n",
              "4                 5  Not Available"
            ]
          },
          "metadata": {
            "tags": []
          },
          "execution_count": 10
        }
      ]
    },
    {
      "cell_type": "code",
      "metadata": {
        "_uuid": "fda696aba45c9a0638e4dcf95c292aeba37f0f14",
        "id": "M8gf0br-AlB8",
        "colab_type": "code",
        "outputId": "63cc1fad-6150-4adf-921e-0424e0f4527c",
        "colab": {
          "base_uri": "https://localhost:8080/",
          "height": 158
        }
      },
      "source": [
        "#Checking percent of missing values in each column\n",
        "df.isna().sum()[df.isna().sum()>0]/len(df)"
      ],
      "execution_count": 11,
      "outputs": [
        {
          "output_type": "execute_result",
          "data": {
            "text/plain": [
              "race                 0.022336\n",
              "weight               0.968585\n",
              "payer_code           0.395574\n",
              "medical_specialty    0.490822\n",
              "diag_1               0.000206\n",
              "diag_2               0.003518\n",
              "diag_3               0.013983\n",
              "dtype: float64"
            ]
          },
          "metadata": {
            "tags": []
          },
          "execution_count": 11
        }
      ]
    },
    {
      "cell_type": "code",
      "metadata": {
        "_uuid": "6edaf833116f062e8b729403b2f1bc871fa7c3ff",
        "id": "1GbT8MAkAlCA",
        "colab_type": "code",
        "colab": {}
      },
      "source": [
        "#dropping columns with high missing values\n",
        "df = df.drop(['weight','payer_code','medical_specialty'], axis = 1)"
      ],
      "execution_count": 0,
      "outputs": []
    },
    {
      "cell_type": "code",
      "metadata": {
        "_uuid": "e7934d84f6119a0d5e524b8d8250a143f6de87bc",
        "id": "LVHbOWa2AlCC",
        "colab_type": "code",
        "colab": {}
      },
      "source": [
        "#In ID file you can find that discharge_disposition_id =11 implies the patient is expired, so removing all the rows where patient is expired.\n",
        "drop_Idx = set(df[df['discharge_disposition_id'] == 11].index)\n",
        "new_Idx = list(set(df.index) - set(drop_Idx))\n",
        "df = df.iloc[new_Idx]\n",
        "\n",
        "df = df.dropna(how='any')   "
      ],
      "execution_count": 0,
      "outputs": []
    },
    {
      "cell_type": "code",
      "metadata": {
        "_uuid": "92231506c0a8f53dddc12d4065db0329ac538a5b",
        "id": "Pai2XQOnAlCF",
        "colab_type": "code",
        "outputId": "54f5e5f2-0111-44b8-e0e5-fffd30aef0b2",
        "colab": {
          "base_uri": "https://localhost:8080/",
          "height": 35
        }
      },
      "source": [
        "# Checking for null values again\n",
        "df.isna().sum()[df.isna().sum()>0]/len(df)"
      ],
      "execution_count": 14,
      "outputs": [
        {
          "output_type": "execute_result",
          "data": {
            "text/plain": [
              "Series([], dtype: float64)"
            ]
          },
          "metadata": {
            "tags": []
          },
          "execution_count": 14
        }
      ]
    },
    {
      "cell_type": "markdown",
      "metadata": {
        "id": "9dyxWokJAlCH",
        "colab_type": "text"
      },
      "source": [
        "## Feature Engineering"
      ]
    },
    {
      "cell_type": "code",
      "metadata": {
        "id": "VxIvGkm3T9Qg",
        "colab_type": "code",
        "colab": {}
      },
      "source": [
        "#Converting the target variable into categories\n",
        "df['readmitted'] = df['readmitted'].replace('>30', 0)\n",
        "df['readmitted'] = df['readmitted'].replace('<30', 1)\n",
        "df['readmitted'] = df['readmitted'].replace('NO', 0)"
      ],
      "execution_count": 0,
      "outputs": []
    },
    {
      "cell_type": "code",
      "metadata": {
        "id": "nEROjFYqUF1U",
        "colab_type": "code",
        "outputId": "8a353aa4-c27c-4762-a222-621a758eaa1a",
        "colab": {
          "base_uri": "https://localhost:8080/",
          "height": 1000
        }
      },
      "source": [
        "#Checking some columns value counts\n",
        "some_cat_cols = ['race','gender','age','admission_type_id','discharge_disposition_id','admission_source_id','metformin', 'repaglinide',\n",
        "                 'nateglinide', 'chlorpropamide', 'glimepiride', 'acetohexamide', 'glipizide', 'glyburide', 'tolbutamide', 'pioglitazone', \n",
        "                 'rosiglitazone', 'acarbose', 'miglitol', 'troglitazone', 'tolazamide', 'examide', 'citoglipton', 'insulin', 'glyburide-metformin', \n",
        "                 'glipizide-metformin', 'glimepiride-pioglitazone', 'metformin-rosiglitazone','metformin-pioglitazone']\n",
        "for c in some_cat_cols:\n",
        "    print(\"================ %s ==================\" % c)\n",
        "    print(df[c].value_counts())"
      ],
      "execution_count": 16,
      "outputs": [
        {
          "output_type": "stream",
          "text": [
            "================ race ==================\n",
            "Caucasian          73835\n",
            "AfricanAmerican    18560\n",
            "Hispanic            1971\n",
            "Other               1464\n",
            "Asian                617\n",
            "Name: race, dtype: int64\n",
            "================ gender ==================\n",
            "Female             52006\n",
            "Male               44440\n",
            "Unknown/Invalid        1\n",
            "Name: gender, dtype: int64\n",
            "================ age ==================\n",
            "[70-80)     24816\n",
            "[60-70)     21521\n",
            "[50-60)     16546\n",
            "[80-90)     16223\n",
            "[40-50)      9208\n",
            "[30-40)      3538\n",
            "[90-100)     2594\n",
            "[20-30)      1471\n",
            "[10-20)       466\n",
            "[0-10)         64\n",
            "Name: age, dtype: int64\n",
            "================ admission_type_id ==================\n",
            "1    51097\n",
            "3    18071\n",
            "2    17300\n",
            "6     5072\n",
            "5     4568\n",
            "8      312\n",
            "7       17\n",
            "4       10\n",
            "Name: admission_type_id, dtype: int64\n",
            "================ discharge_disposition_id ==================\n",
            "1     57610\n",
            "3     13564\n",
            "6     12626\n",
            "18     3624\n",
            "2      2049\n",
            "22     1970\n",
            "5      1127\n",
            "25      941\n",
            "4       756\n",
            "7       592\n",
            "23      400\n",
            "13      396\n",
            "14      368\n",
            "28      137\n",
            "8       106\n",
            "15       63\n",
            "24       48\n",
            "9        21\n",
            "17       14\n",
            "16       11\n",
            "19        8\n",
            "10        6\n",
            "27        5\n",
            "12        3\n",
            "20        2\n",
            "Name: discharge_disposition_id, dtype: int64\n",
            "================ admission_source_id ==================\n",
            "7     54847\n",
            "1     28120\n",
            "17     6469\n",
            "4      2896\n",
            "6      1873\n",
            "2      1012\n",
            "5       806\n",
            "3       177\n",
            "20      158\n",
            "9        49\n",
            "8        14\n",
            "22       12\n",
            "10        7\n",
            "11        2\n",
            "14        2\n",
            "25        2\n",
            "13        1\n",
            "Name: admission_source_id, dtype: int64\n",
            "================ metformin ==================\n",
            "No        77288\n",
            "Steady    17591\n",
            "Up         1017\n",
            "Down        551\n",
            "Name: metformin, dtype: int64\n",
            "================ repaglinide ==================\n",
            "No        94936\n",
            "Steady     1360\n",
            "Up          106\n",
            "Down         45\n",
            "Name: repaglinide, dtype: int64\n",
            "================ nateglinide ==================\n",
            "No        95764\n",
            "Steady      649\n",
            "Up           23\n",
            "Down         11\n",
            "Name: nateglinide, dtype: int64\n",
            "================ chlorpropamide ==================\n",
            "No        96365\n",
            "Steady       75\n",
            "Up            6\n",
            "Down          1\n",
            "Name: chlorpropamide, dtype: int64\n",
            "================ glimepiride ==================\n",
            "No        91501\n",
            "Steady     4451\n",
            "Up          312\n",
            "Down        183\n",
            "Name: glimepiride, dtype: int64\n",
            "================ acetohexamide ==================\n",
            "No        96446\n",
            "Steady        1\n",
            "Name: acetohexamide, dtype: int64\n",
            "================ glipizide ==================\n",
            "No        84239\n",
            "Steady    10924\n",
            "Up          749\n",
            "Down        535\n",
            "Name: glipizide, dtype: int64\n",
            "================ glyburide ==================\n",
            "No        86264\n",
            "Steady     8863\n",
            "Up          785\n",
            "Down        535\n",
            "Name: glyburide, dtype: int64\n",
            "================ tolbutamide ==================\n",
            "No        96427\n",
            "Steady       20\n",
            "Name: tolbutamide, dtype: int64\n",
            "================ pioglitazone ==================\n",
            "No        89396\n",
            "Steady     6714\n",
            "Up          223\n",
            "Down        114\n",
            "Name: pioglitazone, dtype: int64\n",
            "================ rosiglitazone ==================\n",
            "No        90316\n",
            "Steady     5879\n",
            "Up          169\n",
            "Down         83\n",
            "Name: rosiglitazone, dtype: int64\n",
            "================ acarbose ==================\n",
            "No        96149\n",
            "Steady      285\n",
            "Up           10\n",
            "Down          3\n",
            "Name: acarbose, dtype: int64\n",
            "================ miglitol ==================\n",
            "No        96410\n",
            "Steady       31\n",
            "Down          4\n",
            "Up            2\n",
            "Name: miglitol, dtype: int64\n",
            "================ troglitazone ==================\n",
            "No        96444\n",
            "Steady        3\n",
            "Name: troglitazone, dtype: int64\n",
            "================ tolazamide ==================\n",
            "No        96410\n",
            "Steady       36\n",
            "Up            1\n",
            "Name: tolazamide, dtype: int64\n",
            "================ examide ==================\n",
            "No    96447\n",
            "Name: examide, dtype: int64\n",
            "================ citoglipton ==================\n",
            "No    96447\n",
            "Name: citoglipton, dtype: int64\n",
            "================ insulin ==================\n",
            "No        45261\n",
            "Steady    28861\n",
            "Down      11645\n",
            "Up        10680\n",
            "Name: insulin, dtype: int64\n",
            "================ glyburide-metformin ==================\n",
            "No        95786\n",
            "Steady      652\n",
            "Up            6\n",
            "Down          3\n",
            "Name: glyburide-metformin, dtype: int64\n",
            "================ glipizide-metformin ==================\n",
            "No        96434\n",
            "Steady       13\n",
            "Name: glipizide-metformin, dtype: int64\n",
            "================ glimepiride-pioglitazone ==================\n",
            "No        96446\n",
            "Steady        1\n",
            "Name: glimepiride-pioglitazone, dtype: int64\n",
            "================ metformin-rosiglitazone ==================\n",
            "No    96447\n",
            "Name: metformin-rosiglitazone, dtype: int64\n",
            "================ metformin-pioglitazone ==================\n",
            "No        96446\n",
            "Steady        1\n",
            "Name: metformin-pioglitazone, dtype: int64\n"
          ],
          "name": "stdout"
        }
      ]
    },
    {
      "cell_type": "code",
      "metadata": {
        "id": "CIt9qFqHZlje",
        "colab_type": "code",
        "colab": {}
      },
      "source": [
        "#Replacing the Unknown/Invalid values with mode of that column\n",
        "df = df.replace('Unknown/Invalid',df['gender'].mode()[0])"
      ],
      "execution_count": 0,
      "outputs": []
    },
    {
      "cell_type": "code",
      "metadata": {
        "_uuid": "c61817d428256fe7dbc6fc4268585a54fc3d5463",
        "id": "NGvjQVauAlCE",
        "colab_type": "code",
        "colab": {}
      },
      "source": [
        "#Since all the below columns have 'No' value more and have very less or 0, 'Steady', 'Up', 'Down' values.\n",
        "df = df.drop(['citoglipton', 'examide','acetohexamide','troglitazone','glimepiride-pioglitazone','metformin-rosiglitazone','metformin-pioglitazone'], axis = 1)"
      ],
      "execution_count": 0,
      "outputs": []
    },
    {
      "cell_type": "code",
      "metadata": {
        "id": "7ykRqN2oUXwS",
        "colab_type": "code",
        "colab": {}
      },
      "source": [
        "#Converting the string to categories\n",
        "df['gender'] = df['gender'].replace('Male', 0)\n",
        "df['gender'] = df['gender'].replace('Female', 1)"
      ],
      "execution_count": 0,
      "outputs": []
    },
    {
      "cell_type": "code",
      "metadata": {
        "id": "BNwtCBiNUhco",
        "colab_type": "code",
        "outputId": "735df9c0-c94f-4080-bdf2-02ce424399a1",
        "colab": {
          "base_uri": "https://localhost:8080/",
          "height": 211
        }
      },
      "source": [
        "# # Mapping age column from (0-10) - (90-100) to midpoint values\n",
        "for i in range(0,10):\n",
        "    df['age'] = df['age'].replace('['+str(10*i)+'-'+str(10*(i+1))+')', i+1)\n",
        "\n",
        "age_dict = {1:5, 2:15, 3:25, 4:35, 5:45, 6:55, 7:65, 8:75, 9:85, 10:95}\n",
        "df['age'] = df.age.map(age_dict)\n",
        "print(df.age.value_counts())"
      ],
      "execution_count": 20,
      "outputs": [
        {
          "output_type": "stream",
          "text": [
            "75    24816\n",
            "65    21521\n",
            "55    16546\n",
            "85    16223\n",
            "45     9208\n",
            "35     3538\n",
            "95     2594\n",
            "25     1471\n",
            "15      466\n",
            "5        64\n",
            "Name: age, dtype: int64\n"
          ],
          "name": "stdout"
        }
      ]
    },
    {
      "cell_type": "code",
      "metadata": {
        "id": "1jv0XxKcAlCK",
        "colab_type": "code",
        "outputId": "6f2c6bde-5b72-4a02-8355-505872e23789",
        "colab": {
          "base_uri": "https://localhost:8080/",
          "height": 123
        }
      },
      "source": [
        "#Creating a new column numchange, that indicated the no of medicaion changes\n",
        "keys = ['metformin', 'repaglinide', 'nateglinide', 'chlorpropamide', 'glimepiride', 'glipizide', 'glyburide', 'pioglitazone', 'rosiglitazone', 'acarbose', 'miglitol', 'insulin', 'glyburide-metformin', 'tolazamide', 'glipizide-metformin', 'tolbutamide']\n",
        "for col in keys:\n",
        "    colname = str(col) + 'temp'\n",
        "    df[colname] = df[col].apply(lambda x: 0 if (x == 'No' or x == 'Steady') else 1)\n",
        "df['numchange'] = 0\n",
        "for col in keys:\n",
        "    colname = str(col) + 'temp'\n",
        "    df['numchange'] = df['numchange'] + df[colname]\n",
        "    del df[colname]\n",
        "    \n",
        "df['numchange'].value_counts()  "
      ],
      "execution_count": 21,
      "outputs": [
        {
          "output_type": "execute_result",
          "data": {
            "text/plain": [
              "0    70143\n",
              "1    24922\n",
              "2     1271\n",
              "3      106\n",
              "4        5\n",
              "Name: numchange, dtype: int64"
            ]
          },
          "metadata": {
            "tags": []
          },
          "execution_count": 21
        }
      ]
    },
    {
      "cell_type": "code",
      "metadata": {
        "id": "te_XuiqRUoAS",
        "colab_type": "code",
        "colab": {}
      },
      "source": [
        "# For all the colummns that has 'No', 'Steady', 'Up', 'Down' converting them to integers\n",
        "for col in keys:\n",
        "    df[col] = df[col].replace('No', 0)\n",
        "    df[col] = df[col].replace('Steady', 1)\n",
        "    df[col] = df[col].replace('Up', 1)\n",
        "    df[col] = df[col].replace('Down', 1)"
      ],
      "execution_count": 0,
      "outputs": []
    },
    {
      "cell_type": "code",
      "metadata": {
        "id": "c9qruvcPAlCM",
        "colab_type": "code",
        "colab": {}
      },
      "source": [
        "# Mapping the below columns to reduce categories in each column\n",
        "\n",
        "df['admission_type_id'] = df['admission_type_id'].replace(2,1)\n",
        "df['admission_type_id'] = df['admission_type_id'].replace(7,1)\n",
        "df['admission_type_id'] = df['admission_type_id'].replace(6,5)\n",
        "df['admission_type_id'] = df['admission_type_id'].replace(8,5)\n",
        "\n",
        "df['discharge_disposition_id'] = df['discharge_disposition_id'].replace(6,1)\n",
        "df['discharge_disposition_id'] = df['discharge_disposition_id'].replace(8,1)\n",
        "df['discharge_disposition_id'] = df['discharge_disposition_id'].replace(9,1)\n",
        "df['discharge_disposition_id'] = df['discharge_disposition_id'].replace(13,1)\n",
        "df['discharge_disposition_id'] = df['discharge_disposition_id'].replace(3,2)\n",
        "df['discharge_disposition_id'] = df['discharge_disposition_id'].replace(4,2)\n",
        "df['discharge_disposition_id'] = df['discharge_disposition_id'].replace(5,2)\n",
        "df['discharge_disposition_id'] = df['discharge_disposition_id'].replace(14,2)\n",
        "df['discharge_disposition_id'] = df['discharge_disposition_id'].replace(22,2)\n",
        "df['discharge_disposition_id'] = df['discharge_disposition_id'].replace(23,2)\n",
        "df['discharge_disposition_id'] = df['discharge_disposition_id'].replace(24,2)\n",
        "df['discharge_disposition_id'] = df['discharge_disposition_id'].replace(12,10)\n",
        "df['discharge_disposition_id'] = df['discharge_disposition_id'].replace(15,10)\n",
        "df['discharge_disposition_id'] = df['discharge_disposition_id'].replace(16,10)\n",
        "df['discharge_disposition_id'] = df['discharge_disposition_id'].replace(17,10)\n",
        "df['discharge_disposition_id'] = df['discharge_disposition_id'].replace(25,18)\n",
        "df['discharge_disposition_id'] = df['discharge_disposition_id'].replace(26,18)\n",
        "\n",
        "df['admission_source_id'] = df['admission_source_id'].replace(2,1)\n",
        "df['admission_source_id'] = df['admission_source_id'].replace(3,1)\n",
        "df['admission_source_id'] = df['admission_source_id'].replace(5,4)\n",
        "df['admission_source_id'] = df['admission_source_id'].replace(6,4)\n",
        "df['admission_source_id'] = df['admission_source_id'].replace(10,4)\n",
        "df['admission_source_id'] = df['admission_source_id'].replace(22,4)\n",
        "df['admission_source_id'] = df['admission_source_id'].replace(25,4)\n",
        "df['admission_source_id'] = df['admission_source_id'].replace(15,9)\n",
        "df['admission_source_id'] = df['admission_source_id'].replace(17,9)\n",
        "df['admission_source_id'] = df['admission_source_id'].replace(20,9)\n",
        "df['admission_source_id'] = df['admission_source_id'].replace(21,9)\n",
        "df['admission_source_id'] = df['admission_source_id'].replace(13,11)\n",
        "df['admission_source_id'] = df['admission_source_id'].replace(14,11)"
      ],
      "execution_count": 0,
      "outputs": []
    },
    {
      "cell_type": "code",
      "metadata": {
        "id": "-VrV0tDCAlCO",
        "colab_type": "code",
        "colab": {}
      },
      "source": [
        "#Converting the string to categories\n",
        "df['change'] = df['change'].replace('Ch', 1)\n",
        "df['change'] = df['change'].replace('No', 0)\n",
        "df['diabetesMed'] = df['diabetesMed'].replace('Yes', 1)\n",
        "df['diabetesMed'] = df['diabetesMed'].replace('No', 0)"
      ],
      "execution_count": 0,
      "outputs": []
    },
    {
      "cell_type": "code",
      "metadata": {
        "id": "xxPVzXA3AlCQ",
        "colab_type": "code",
        "colab": {}
      },
      "source": [
        "#Converting the string to categories\n",
        "df['A1Cresult'] = df['A1Cresult'].replace('>7', 1)\n",
        "df['A1Cresult'] = df['A1Cresult'].replace('>8', 1)\n",
        "df['A1Cresult'] = df['A1Cresult'].replace('Norm', 0)\n",
        "df['A1Cresult'] = df['A1Cresult'].replace('None', -99)\n",
        "df['max_glu_serum'] = df['max_glu_serum'].replace('>200', 1)\n",
        "df['max_glu_serum'] = df['max_glu_serum'].replace('>300', 1)\n",
        "df['max_glu_serum'] = df['max_glu_serum'].replace('Norm', 0)\n",
        "df['max_glu_serum'] = df['max_glu_serum'].replace('None', -99)"
      ],
      "execution_count": 0,
      "outputs": []
    },
    {
      "cell_type": "code",
      "metadata": {
        "id": "2hZeneotAlDI",
        "colab_type": "code",
        "outputId": "d0fe65db-d255-4539-b0d6-4af11e821402",
        "colab": {
          "base_uri": "https://localhost:8080/",
          "height": 158
        }
      },
      "source": [
        "#Creating a new feature nummed, that indicates number of medications\n",
        "df['nummed'] = 0\n",
        "for col in keys:\n",
        "    df['nummed'] = df['nummed'] + df[col]\n",
        "df['nummed'].value_counts()"
      ],
      "execution_count": 26,
      "outputs": [
        {
          "output_type": "execute_result",
          "data": {
            "text/plain": [
              "1    44593\n",
              "0    22156\n",
              "2    20899\n",
              "3     7448\n",
              "4     1289\n",
              "5       57\n",
              "6        5\n",
              "Name: nummed, dtype: int64"
            ]
          },
          "metadata": {
            "tags": []
          },
          "execution_count": 26
        }
      ]
    },
    {
      "cell_type": "code",
      "metadata": {
        "id": "-X9uq86JAlDQ",
        "colab_type": "code",
        "colab": {}
      },
      "source": [
        "#Dropping a few more columns\n",
        "df = df.drop(['number_outpatient', 'number_inpatient', 'number_emergency','diag_1', 'diag_2', 'diag_3'], axis = 1)"
      ],
      "execution_count": 0,
      "outputs": []
    },
    {
      "cell_type": "code",
      "metadata": {
        "id": "MAcmxi7odw7v",
        "colab_type": "code",
        "outputId": "d041b1de-17c4-4de6-88f2-cdb02a6b2f8f",
        "colab": {
          "base_uri": "https://localhost:8080/",
          "height": 35
        }
      },
      "source": [
        "df.shape"
      ],
      "execution_count": 28,
      "outputs": [
        {
          "output_type": "execute_result",
          "data": {
            "text/plain": [
              "(96447, 36)"
            ]
          },
          "metadata": {
            "tags": []
          },
          "execution_count": 28
        }
      ]
    },
    {
      "cell_type": "code",
      "metadata": {
        "id": "VLRK7vSTeSlc",
        "colab_type": "code",
        "colab": {}
      },
      "source": [
        "# All the numeric columns\n",
        "num_cols = ['numchange',\n",
        " 'nummed',\n",
        " 'time_in_hospital',\n",
        " 'num_procedures',\n",
        " 'num_lab_procedures',\n",
        " 'number_diagnoses','num_medications']\n",
        "\n",
        "df[num_cols] = df[num_cols].astype('int64')"
      ],
      "execution_count": 0,
      "outputs": []
    },
    {
      "cell_type": "code",
      "metadata": {
        "id": "Wz-ncrw7Xb-o",
        "colab_type": "code",
        "colab": {}
      },
      "source": [
        "# Performing required type conversion on variables\n",
        "df.encounter_id = df.encounter_id.astype('int64')\n",
        "df.patient_nbr = df.patient_nbr.astype('int64')\n",
        "df.diabetesMed = df.diabetesMed.astype('int64')\n",
        "df.change = df.change.astype('int64')\n",
        "df.age = df.age.astype('int64')\n",
        "\n",
        "# All the categorical columns\n",
        "cat_cols = ['metformin', 'repaglinide', 'nateglinide', 'chlorpropamide', 'glimepiride', \\\n",
        "          'glipizide', 'glyburide', 'tolbutamide', 'pioglitazone', 'rosiglitazone', 'acarbose','miglitol', \\\n",
        "           'tolazamide', 'insulin', 'glyburide-metformin', 'glipizide-metformin', \\\n",
        "          'A1Cresult','gender', 'admission_type_id', 'discharge_disposition_id', \\\n",
        "          'admission_source_id', 'max_glu_serum','race']\n",
        "df[cat_cols] = df[cat_cols].astype('object')"
      ],
      "execution_count": 0,
      "outputs": []
    },
    {
      "cell_type": "code",
      "metadata": {
        "id": "pKlIEycjApoM",
        "colab_type": "code",
        "outputId": "0a5d6a00-7a38-4bbf-9bd0-22890845645e",
        "colab": {
          "base_uri": "https://localhost:8080/",
          "height": 668
        }
      },
      "source": [
        "df.dtypes"
      ],
      "execution_count": 31,
      "outputs": [
        {
          "output_type": "execute_result",
          "data": {
            "text/plain": [
              "encounter_id                 int64\n",
              "patient_nbr                  int64\n",
              "race                        object\n",
              "gender                      object\n",
              "age                          int64\n",
              "admission_type_id           object\n",
              "discharge_disposition_id    object\n",
              "admission_source_id         object\n",
              "time_in_hospital             int64\n",
              "num_lab_procedures           int64\n",
              "num_procedures               int64\n",
              "num_medications              int64\n",
              "number_diagnoses             int64\n",
              "max_glu_serum               object\n",
              "A1Cresult                   object\n",
              "metformin                   object\n",
              "repaglinide                 object\n",
              "nateglinide                 object\n",
              "chlorpropamide              object\n",
              "glimepiride                 object\n",
              "glipizide                   object\n",
              "glyburide                   object\n",
              "tolbutamide                 object\n",
              "pioglitazone                object\n",
              "rosiglitazone               object\n",
              "acarbose                    object\n",
              "miglitol                    object\n",
              "tolazamide                  object\n",
              "insulin                     object\n",
              "glyburide-metformin         object\n",
              "glipizide-metformin         object\n",
              "change                       int64\n",
              "diabetesMed                  int64\n",
              "readmitted                   int64\n",
              "numchange                    int64\n",
              "nummed                       int64\n",
              "dtype: object"
            ]
          },
          "metadata": {
            "tags": []
          },
          "execution_count": 31
        }
      ]
    },
    {
      "cell_type": "code",
      "metadata": {
        "id": "ik_nLos9MBBy",
        "colab_type": "code",
        "outputId": "b595d952-9bce-402b-98af-a9abe3fc4afa",
        "colab": {
          "base_uri": "https://localhost:8080/",
          "height": 639
        }
      },
      "source": [
        "fig = plt.figure(figsize=(15,10))\n",
        "sns.countplot(y= df['age'], hue = df['readmitted']).set_title('Age of Patient VS. Readmission')"
      ],
      "execution_count": 32,
      "outputs": [
        {
          "output_type": "execute_result",
          "data": {
            "text/plain": [
              "Text(0.5, 1.0, 'Age of Patient VS. Readmission')"
            ]
          },
          "metadata": {
            "tags": []
          },
          "execution_count": 32
        },
        {
          "output_type": "display_data",
          "data": {
            "image/png": "[encoded data removed]",
            "text/plain": [
              "<Figure size 1080x720 with 1 Axes>"
            ]
          },
          "metadata": {
            "tags": []
          }
        }
      ]
    },
    {
      "cell_type": "markdown",
      "metadata": {
        "id": "fuAom3_nJpeG",
        "colab_type": "text"
      },
      "source": [
        "### **Pre-modelling**"
      ]
    },
    {
      "cell_type": "code",
      "metadata": {
        "id": "fQgtP5tMAlDh",
        "colab_type": "code",
        "outputId": "1e4276c6-5324-40a2-acd3-9f40a2d31e02",
        "colab": {
          "base_uri": "https://localhost:8080/",
          "height": 35
        }
      },
      "source": [
        "# dropping multiple encounters while keeping either first or last encounter of these patients\n",
        "df2 = df.drop_duplicates(subset= ['patient_nbr'], keep = 'first')\n",
        "df2.shape"
      ],
      "execution_count": 33,
      "outputs": [
        {
          "output_type": "execute_result",
          "data": {
            "text/plain": [
              "(67581, 36)"
            ]
          },
          "metadata": {
            "tags": []
          },
          "execution_count": 33
        }
      ]
    },
    {
      "cell_type": "code",
      "metadata": {
        "id": "S4U_nHWPAlDj",
        "colab_type": "code",
        "colab": {}
      },
      "source": [
        "# standardizing the data\n",
        "def standardize(raw_data):\n",
        "    return ((raw_data - np.mean(raw_data, axis = 0)) / np.std(raw_data, axis = 0))"
      ],
      "execution_count": 0,
      "outputs": []
    },
    {
      "cell_type": "code",
      "metadata": {
        "id": "ZhCScU0-AlDk",
        "colab_type": "code",
        "outputId": "380c84ec-2359-4b6e-ed16-6d7727dd7f6e",
        "colab": {
          "base_uri": "https://localhost:8080/",
          "height": 123
        }
      },
      "source": [
        "df2[num_cols] = standardize(df2[num_cols])\n",
        "df2 = df2[(np.abs(sp.stats.zscore(df2[num_cols])) < 3).all(axis=1)]"
      ],
      "execution_count": 35,
      "outputs": [
        {
          "output_type": "stream",
          "text": [
            "/usr/local/lib/python3.6/dist-packages/pandas/core/frame.py:3391: SettingWithCopyWarning: \n",
            "A value is trying to be set on a copy of a slice from a DataFrame.\n",
            "Try using .loc[row_indexer,col_indexer] = value instead\n",
            "\n",
            "See the caveats in the documentation: http://pandas.pydata.org/pandas-docs/stable/indexing.html#indexing-view-versus-copy\n",
            "  self[k1] = value[k2]\n"
          ],
          "name": "stderr"
        }
      ]
    },
    {
      "cell_type": "code",
      "metadata": {
        "id": "-N46C6uTxikQ",
        "colab_type": "code",
        "colab": {}
      },
      "source": [
        "correlations = df2.drop(['patient_nbr', 'encounter_id'], axis=1)"
      ],
      "execution_count": 0,
      "outputs": []
    },
    {
      "cell_type": "code",
      "metadata": {
        "id": "TAGGSte2xY4a",
        "colab_type": "code",
        "outputId": "c7332615-f5b4-4ba3-9bbf-29aafc538f57",
        "colab": {
          "base_uri": "https://localhost:8080/",
          "height": 653
        }
      },
      "source": [
        "# Compute the correlation matrix\n",
        "corr = correlations.corr()\n",
        "\n",
        "# Generate a mask for the upper triangle\n",
        "mask = np.zeros_like(corr, dtype=np.bool)\n",
        "mask[np.triu_indices_from(mask)] = True\n",
        "\n",
        "# Set up the matplotlib figure\n",
        "f, ax = plt.subplots(figsize=(11, 9))\n",
        "\n",
        "# Generate a custom diverging colormap\n",
        "cmap = sns.diverging_palette(220,10, as_cmap=True)\n",
        "\n",
        "# Draw the heatmap with the mask and correct aspect ratio\n",
        "sns.heatmap(corr, mask=mask, cmap=cmap, vmax=.3, center=0,\n",
        "             linewidths=.5, cbar_kws={\"shrink\": .5},)"
      ],
      "execution_count": 37,
      "outputs": [
        {
          "output_type": "execute_result",
          "data": {
            "text/plain": [
              "<matplotlib.axes._subplots.AxesSubplot at 0x7fd3fa8b7b38>"
            ]
          },
          "metadata": {
            "tags": []
          },
          "execution_count": 37
        },
        {
          "output_type": "display_data",
          "data": {
            "image/png": "[encoded data removed]",
            "text/plain": [
              "<Figure size 792x648 with 2 Axes>"
            ]
          },
          "metadata": {
            "tags": []
          }
        }
      ]
    },
    {
      "cell_type": "code",
      "metadata": {
        "id": "qJcjNZ2MAlDo",
        "colab_type": "code",
        "colab": {}
      },
      "source": [
        "# Creating dummy variables for columns more than 2 categories\n",
        "df_pd = pd.get_dummies(df2, columns=['race', 'admission_type_id', 'discharge_disposition_id',\n",
        "                                      'admission_source_id', 'max_glu_serum', 'A1Cresult'], drop_first = True)"
      ],
      "execution_count": 0,
      "outputs": []
    },
    {
      "cell_type": "code",
      "metadata": {
        "id": "thEQqxBPAlDW",
        "colab_type": "code",
        "colab": {}
      },
      "source": [
        "#Creating a copy of DF\n",
        "dfcopy = df.copy(deep = True)"
      ],
      "execution_count": 0,
      "outputs": []
    },
    {
      "cell_type": "markdown",
      "metadata": {
        "id": "nM2ngjvWAlDx",
        "colab_type": "text"
      },
      "source": [
        "## Modeling"
      ]
    },
    {
      "cell_type": "code",
      "metadata": {
        "id": "vI1xJlkqAlDy",
        "colab_type": "code",
        "colab": {}
      },
      "source": [
        "X = df_pd.drop('readmitted', axis=1)\n",
        "y = df_pd['readmitted']"
      ],
      "execution_count": 0,
      "outputs": []
    },
    {
      "cell_type": "code",
      "metadata": {
        "id": "alF6XsmOyfhk",
        "colab_type": "code",
        "colab": {}
      },
      "source": [
        "#Splitting the data into Train, Validation and Test sets\n",
        "X_temp, X_test, y_temp, y_test = train_test_split(X, y, test_size=0.15, random_state=0)\n",
        "X_train, X_val, y_train, y_val = train_test_split(X_temp, y_temp, test_size=0.15, random_state=0)"
      ],
      "execution_count": 0,
      "outputs": []
    },
    {
      "cell_type": "code",
      "metadata": {
        "id": "cOdgjcoXy75z",
        "colab_type": "code",
        "colab": {}
      },
      "source": [
        "#Creating a Function to evaluate model performance \n",
        "def evaluation (predtr,predval,predte,y_train,y_val,y_test):\n",
        "    print('\\033[1m'+'Train Data :'+'\\033[0m')\n",
        "    print('\\033[1m'+'Accuarcy'+'\\033[0m', accuracy_score(y_train,predtr))\n",
        "    print('\\033[1m'+'Precision'+'\\033[0m', precision_score(y_train,predtr))\n",
        "    print('\\033[1m'+'Recall   '+'\\033[0m',recall_score(y_train,predtr))\n",
        "    print('\\033[1m'+'F1_score '+'\\033[0m',f1_score(y_train,predtr))\n",
        "    print('\\033[1m'+'Validation Data :'+'\\033[0m')\n",
        "    print('\\033[1m'+'Accuarcy'+'\\033[0m', accuracy_score(y_val,predval))\n",
        "    print('\\033[1m'+'Precision'+'\\033[0m',precision_score(y_val,predval))\n",
        "    print('\\033[1m'+'Recall   '+'\\033[0m',recall_score(y_val,predval))\n",
        "    print('\\033[1m'+'F1_score '+'\\033[0m',f1_score(y_val,predval))\n",
        "    print('\\033[1m'+'Test Data :'+'\\033[0m')\n",
        "    print('\\033[1m'+'Accuarcy'+'\\033[0m', accuracy_score(y_test,predte))\n",
        "    print('\\033[1m'+'Precision'+'\\033[0m', precision_score(y_test,predte))\n",
        "    print('\\033[1m'+'Recall   '+'\\033[0m',recall_score(y_test,predte))\n",
        "    print('\\033[1m'+'F1_score '+'\\033[0m',f1_score(y_test,predte))"
      ],
      "execution_count": 0,
      "outputs": []
    },
    {
      "cell_type": "code",
      "metadata": {
        "id": "231kJGfuDzkO",
        "colab_type": "code",
        "colab": {}
      },
      "source": [
        "def ModelResults(model,train_Data, val_Data,test_Data,train_labels,val_labels,test_labels):\n",
        "  predtr = model.predict(train_Data)\n",
        "  predval = model.predict(val_Data)\n",
        "  predte = model.predict(test_Data)\n",
        "  evaluation(predtr,predval, predte, train_labels,val_labels, test_labels)"
      ],
      "execution_count": 0,
      "outputs": []
    },
    {
      "cell_type": "markdown",
      "metadata": {
        "id": "5CsWN3C8A3-t",
        "colab_type": "text"
      },
      "source": [
        "### **Decision Tree**"
      ]
    },
    {
      "cell_type": "code",
      "metadata": {
        "id": "MSblllce0Bsw",
        "colab_type": "code",
        "outputId": "8c85a8bd-abcb-4332-e4c9-921bcfd70679",
        "colab": {
          "base_uri": "https://localhost:8080/",
          "height": 123
        }
      },
      "source": [
        "dtree = DecisionTreeClassifier(max_depth=25, criterion = \"gini\", min_samples_split=10)\n",
        "dtree.fit(X_train,y_train)"
      ],
      "execution_count": 44,
      "outputs": [
        {
          "output_type": "execute_result",
          "data": {
            "text/plain": [
              "DecisionTreeClassifier(class_weight=None, criterion='gini', max_depth=25,\n",
              "                       max_features=None, max_leaf_nodes=None,\n",
              "                       min_impurity_decrease=0.0, min_impurity_split=None,\n",
              "                       min_samples_leaf=1, min_samples_split=10,\n",
              "                       min_weight_fraction_leaf=0.0, presort=False,\n",
              "                       random_state=None, splitter='best')"
            ]
          },
          "metadata": {
            "tags": []
          },
          "execution_count": 44
        }
      ]
    },
    {
      "cell_type": "code",
      "metadata": {
        "id": "KNANb5grEsn7",
        "colab_type": "code",
        "outputId": "df3916c9-fe3a-4d5d-a06a-290a4d1f4317",
        "colab": {
          "base_uri": "https://localhost:8080/",
          "height": 281
        }
      },
      "source": [
        "ModelResults(dtree,X_train, X_val,X_test,y_train,y_val,y_test)"
      ],
      "execution_count": 45,
      "outputs": [
        {
          "output_type": "stream",
          "text": [
            "\u001b[1mTrain Data :\u001b[0m\n",
            "\u001b[1mAccuarcy\u001b[0m 0.945952274517317\n",
            "\u001b[1mPrecision\u001b[0m 0.8225501324252743\n",
            "\u001b[1mRecall   \u001b[0m 0.5122525918944392\n",
            "\u001b[1mF1_score \u001b[0m 0.6313343981414259\n",
            "\u001b[1mValidation Data :\u001b[0m\n",
            "\u001b[1mAccuarcy\u001b[0m 0.8634664093595465\n",
            "\u001b[1mPrecision\u001b[0m 0.14555765595463138\n",
            "\u001b[1mRecall   \u001b[0m 0.10171730515191546\n",
            "\u001b[1mF1_score \u001b[0m 0.119751166407465\n",
            "\u001b[1mTest Data :\u001b[0m\n",
            "\u001b[1mAccuarcy\u001b[0m 0.8650809924133689\n",
            "\u001b[1mPrecision\u001b[0m 0.15372670807453417\n",
            "\u001b[1mRecall   \u001b[0m 0.11379310344827587\n",
            "\u001b[1mF1_score \u001b[0m 0.13077939233817704\n"
          ],
          "name": "stdout"
        }
      ]
    },
    {
      "cell_type": "markdown",
      "metadata": {
        "id": "KnZifB5zBd1W",
        "colab_type": "text"
      },
      "source": [
        "### **SMOTE**"
      ]
    },
    {
      "cell_type": "code",
      "metadata": {
        "id": "fVj-MkaYAlED",
        "colab_type": "code",
        "outputId": "66291a5c-5875-46f4-859c-5df2e5b18772",
        "colab": {
          "base_uri": "https://localhost:8080/",
          "height": 52
        }
      },
      "source": [
        "#### Although the accuracy is high the low F1-score indicates the class im-balance problem. So, performing SMOTE technique to generate synthetic data points that helps eliminate class imabalance \n",
        "print('Original dataset shape {}'.format(Counter(y)))\n",
        "smt = SMOTE(random_state=20)\n",
        "x_train_smote, y_train_smote = smt.fit_sample(X, y)\n",
        "print('New dataset shape after smote {}'.format(Counter(y_train_smote)))\n",
        "x_train_smote = pd.DataFrame(x_train_smote, columns = list(X.columns))"
      ],
      "execution_count": 46,
      "outputs": [
        {
          "output_type": "stream",
          "text": [
            "Original dataset shape Counter({0: 59151, 1: 5871})\n",
            "New dataset shape after smote Counter({0: 59151, 1: 59151})\n"
          ],
          "name": "stdout"
        }
      ]
    },
    {
      "cell_type": "code",
      "metadata": {
        "id": "qKvPgmyJ1qlr",
        "colab_type": "code",
        "colab": {}
      },
      "source": [
        "#Splitting the new data\n",
        "X_temp, X_test, y_temp, y_test = train_test_split(x_train_smote, y_train_smote, test_size=0.15, random_state=0)\n",
        "X_train, X_val, y_train, y_val = train_test_split(X_temp, y_temp, test_size=0.15, random_state=0)"
      ],
      "execution_count": 0,
      "outputs": []
    },
    {
      "cell_type": "markdown",
      "metadata": {
        "id": "U6hg9NC1B-5L",
        "colab_type": "text"
      },
      "source": [
        "### Decision Tree"
      ]
    },
    {
      "cell_type": "code",
      "metadata": {
        "id": "fIULHRCwAlEF",
        "colab_type": "code",
        "outputId": "59a93dd3-29cc-4413-95e5-e6b0b4e0ff65",
        "colab": {
          "base_uri": "https://localhost:8080/",
          "height": 123
        }
      },
      "source": [
        "dtree = DecisionTreeClassifier(max_depth=28, criterion = \"entropy\", min_samples_split=10)\n",
        "dtree.fit(X_train, y_train)"
      ],
      "execution_count": 48,
      "outputs": [
        {
          "output_type": "execute_result",
          "data": {
            "text/plain": [
              "DecisionTreeClassifier(class_weight=None, criterion='entropy', max_depth=28,\n",
              "                       max_features=None, max_leaf_nodes=None,\n",
              "                       min_impurity_decrease=0.0, min_impurity_split=None,\n",
              "                       min_samples_leaf=1, min_samples_split=10,\n",
              "                       min_weight_fraction_leaf=0.0, presort=False,\n",
              "                       random_state=None, splitter='best')"
            ]
          },
          "metadata": {
            "tags": []
          },
          "execution_count": 48
        }
      ]
    },
    {
      "cell_type": "code",
      "metadata": {
        "id": "hzk5fJMWWz_F",
        "colab_type": "code",
        "outputId": "e9b53ace-01b5-47d3-c419-64488212ec04",
        "colab": {
          "base_uri": "https://localhost:8080/",
          "height": 281
        }
      },
      "source": [
        "#As you can see after SMOTE the F1-score has been increased\n",
        "ModelResults(dtree,X_train, X_val,X_test,y_train,y_val,y_test)"
      ],
      "execution_count": 49,
      "outputs": [
        {
          "output_type": "stream",
          "text": [
            "\u001b[1mTrain Data :\u001b[0m\n",
            "\u001b[1mAccuarcy\u001b[0m 0.9748572631973044\n",
            "\u001b[1mPrecision\u001b[0m 0.9863724853990915\n",
            "\u001b[1mRecall   \u001b[0m 0.9628830181596358\n",
            "\u001b[1mF1_score \u001b[0m 0.9744862220850301\n",
            "\u001b[1mValidation Data :\u001b[0m\n",
            "\u001b[1mAccuarcy\u001b[0m 0.916998143728454\n",
            "\u001b[1mPrecision\u001b[0m 0.925036878101113\n",
            "\u001b[1mRecall   \u001b[0m 0.9087076801475431\n",
            "\u001b[1mF1_score \u001b[0m 0.9167995746943115\n",
            "\u001b[1mTest Data :\u001b[0m\n",
            "\u001b[1mAccuarcy\u001b[0m 0.9136706863518539\n",
            "\u001b[1mPrecision\u001b[0m 0.924948358962589\n",
            "\u001b[1mRecall   \u001b[0m 0.901767733273663\n",
            "\u001b[1mF1_score \u001b[0m 0.9132109675957398\n"
          ],
          "name": "stdout"
        }
      ]
    },
    {
      "cell_type": "markdown",
      "metadata": {
        "id": "cg_qHnYRAlEL",
        "colab_type": "text"
      },
      "source": [
        "### Random Forest"
      ]
    },
    {
      "cell_type": "code",
      "metadata": {
        "id": "xDLWwKwtAlEN",
        "colab_type": "code",
        "outputId": "4a6fb08a-dc4b-4b7c-d968-06246955b80f",
        "colab": {
          "base_uri": "https://localhost:8080/",
          "height": 140
        }
      },
      "source": [
        "rfc = RandomForestClassifier(n_estimators = 10, max_depth=25, criterion = \"gini\", min_samples_split=10)\n",
        "rfc.fit(X_train, y_train)"
      ],
      "execution_count": 50,
      "outputs": [
        {
          "output_type": "execute_result",
          "data": {
            "text/plain": [
              "RandomForestClassifier(bootstrap=True, class_weight=None, criterion='gini',\n",
              "                       max_depth=25, max_features='auto', max_leaf_nodes=None,\n",
              "                       min_impurity_decrease=0.0, min_impurity_split=None,\n",
              "                       min_samples_leaf=1, min_samples_split=10,\n",
              "                       min_weight_fraction_leaf=0.0, n_estimators=10,\n",
              "                       n_jobs=None, oob_score=False, random_state=None,\n",
              "                       verbose=0, warm_start=False)"
            ]
          },
          "metadata": {
            "tags": []
          },
          "execution_count": 50
        }
      ]
    },
    {
      "cell_type": "code",
      "metadata": {
        "id": "x6zTjzZPAlEO",
        "colab_type": "code",
        "outputId": "86010e8b-c23e-4232-a2d3-6668f0096ce5",
        "colab": {
          "base_uri": "https://localhost:8080/",
          "height": 281
        }
      },
      "source": [
        "ModelResults(rfc,X_train, X_val,X_test,y_train,y_val,y_test)"
      ],
      "execution_count": 51,
      "outputs": [
        {
          "output_type": "stream",
          "text": [
            "\u001b[1mTrain Data :\u001b[0m\n",
            "\u001b[1mAccuarcy\u001b[0m 0.9568513665293897\n",
            "\u001b[1mPrecision\u001b[0m 1.0\n",
            "\u001b[1mRecall   \u001b[0m 0.9134719159119703\n",
            "\u001b[1mF1_score \u001b[0m 0.954779537986169\n",
            "\u001b[1mValidation Data :\u001b[0m\n",
            "\u001b[1mAccuarcy\u001b[0m 0.94822328294882\n",
            "\u001b[1mPrecision\u001b[0m 0.9983899297423887\n",
            "\u001b[1mRecall   \u001b[0m 0.8985640890528257\n",
            "\u001b[1mF1_score \u001b[0m 0.945850377868682\n",
            "\u001b[1mTest Data :\u001b[0m\n",
            "\u001b[1mAccuarcy\u001b[0m 0.945790600698749\n",
            "\u001b[1mPrecision\u001b[0m 0.998998998998999\n",
            "\u001b[1mRecall   \u001b[0m 0.8932647124636384\n",
            "\u001b[1mF1_score \u001b[0m 0.9431777909037212\n"
          ],
          "name": "stdout"
        }
      ]
    },
    {
      "cell_type": "code",
      "metadata": {
        "id": "EDKUfm6LAlEQ",
        "colab_type": "code",
        "outputId": "abb3cad5-df87-4fb4-9081-d01fcedcaa7a",
        "colab": {
          "base_uri": "https://localhost:8080/",
          "height": 411
        }
      },
      "source": [
        "#Displaying the important features\n",
        "featimp = pd.Series(rfc.feature_importances_,index=X_train.columns).sort_values(ascending=False)\n",
        "featimp.nlargest(5).plot(kind='bar')"
      ],
      "execution_count": 52,
      "outputs": [
        {
          "output_type": "execute_result",
          "data": {
            "text/plain": [
              "<matplotlib.axes._subplots.AxesSubplot at 0x7fd3fa76ca58>"
            ]
          },
          "metadata": {
            "tags": []
          },
          "execution_count": 52
        },
        {
          "output_type": "display_data",
          "data": {
            "image/png": "[encoded data removed]",
            "text/plain": [
              "<Figure size 432x288 with 1 Axes>"
            ]
          },
          "metadata": {
            "tags": []
          }
        }
      ]
    },
    {
      "cell_type": "markdown",
      "metadata": {
        "id": "cGj6LKTLCUsR",
        "colab_type": "text"
      },
      "source": [
        "### **XGBoost**"
      ]
    },
    {
      "cell_type": "code",
      "metadata": {
        "id": "Og7VjAWxAlET",
        "colab_type": "code",
        "outputId": "2544f528-d46c-4525-dc73-6ce1f7de915d",
        "colab": {
          "base_uri": "https://localhost:8080/",
          "height": 140
        }
      },
      "source": [
        "xgb_cf=XGBClassifier()\n",
        "xgb_cf.fit(X_train,y_train)"
      ],
      "execution_count": 0,
      "outputs": [
        {
          "output_type": "execute_result",
          "data": {
            "text/plain": [
              "XGBClassifier(base_score=0.5, booster='gbtree', colsample_bylevel=1,\n",
              "              colsample_bynode=1, colsample_bytree=1, gamma=0,\n",
              "              learning_rate=0.1, max_delta_step=0, max_depth=3,\n",
              "              min_child_weight=1, missing=None, n_estimators=100, n_jobs=1,\n",
              "              nthread=None, objective='binary:logistic', random_state=0,\n",
              "              reg_alpha=0, reg_lambda=1, scale_pos_weight=1, seed=None,\n",
              "              silent=None, subsample=1, verbosity=1)"
            ]
          },
          "metadata": {
            "tags": []
          },
          "execution_count": 127
        }
      ]
    },
    {
      "cell_type": "code",
      "metadata": {
        "id": "r7JPshOA2pMv",
        "colab_type": "code",
        "outputId": "1a3e634f-5d26-4267-9f16-1f104a4243f9",
        "colab": {
          "base_uri": "https://localhost:8080/",
          "height": 281
        }
      },
      "source": [
        "ModelResults(xgb_cf,X_train, X_val,X_test,y_train,y_val,y_test)"
      ],
      "execution_count": 0,
      "outputs": [
        {
          "output_type": "stream",
          "text": [
            "\u001b[1mTrain Data :\u001b[0m\n",
            "\u001b[1mAccuarcy\u001b[0m 0.9472107824784725\n",
            "\u001b[1mPrecision\u001b[0m 1.0\n",
            "\u001b[1mRecall   \u001b[0m 0.8941391769508704\n",
            "\u001b[1mF1_score \u001b[0m 0.9441113808650845\n",
            "\u001b[1mValidation Data :\u001b[0m\n",
            "\u001b[1mAccuarcy\u001b[0m 0.9476266242376028\n",
            "\u001b[1mPrecision\u001b[0m 1.0\n",
            "\u001b[1mRecall   \u001b[0m 0.8959293900671849\n",
            "\u001b[1mF1_score \u001b[0m 0.9451083935519733\n",
            "\u001b[1mTest Data :\u001b[0m\n",
            "\u001b[1mAccuarcy\u001b[0m 0.9447762876141103\n",
            "\u001b[1mPrecision\u001b[0m 1.0\n",
            "\u001b[1mRecall   \u001b[0m 0.8903557842917879\n",
            "\u001b[1mF1_score \u001b[0m 0.941998106060606\n"
          ],
          "name": "stdout"
        }
      ]
    },
    {
      "cell_type": "markdown",
      "metadata": {
        "id": "uTIWe7TfCwTI",
        "colab_type": "text"
      },
      "source": [
        "### KNN"
      ]
    },
    {
      "cell_type": "code",
      "metadata": {
        "id": "EZooeRxU20WX",
        "colab_type": "code",
        "outputId": "3c23121d-0979-45f1-c62e-1525959aed92",
        "colab": {
          "base_uri": "https://localhost:8080/",
          "height": 70
        }
      },
      "source": [
        "knn = KNeighborsClassifier(n_neighbors=9)\n",
        "knn.fit(X_train,y_train)"
      ],
      "execution_count": 0,
      "outputs": [
        {
          "output_type": "execute_result",
          "data": {
            "text/plain": [
              "KNeighborsClassifier(algorithm='auto', leaf_size=30, metric='minkowski',\n",
              "                     metric_params=None, n_jobs=None, n_neighbors=9, p=2,\n",
              "                     weights='uniform')"
            ]
          },
          "metadata": {
            "tags": []
          },
          "execution_count": 129
        }
      ]
    },
    {
      "cell_type": "code",
      "metadata": {
        "id": "Na4uXMzg6X4E",
        "colab_type": "code",
        "outputId": "b5524882-fb64-493c-dd5d-15ebf7f23d70",
        "colab": {
          "base_uri": "https://localhost:8080/",
          "height": 281
        }
      },
      "source": [
        "ModelResults(knn,X_train, X_val,X_test,y_train,y_val,y_test)"
      ],
      "execution_count": 0,
      "outputs": [
        {
          "output_type": "stream",
          "text": [
            "\u001b[1mTrain Data :\u001b[0m\n",
            "\u001b[1mAccuarcy\u001b[0m 0.7884336390864845\n",
            "\u001b[1mPrecision\u001b[0m 0.7435052692162661\n",
            "\u001b[1mRecall   \u001b[0m 0.8789592229365116\n",
            "\u001b[1mF1_score \u001b[0m 0.8055779548215763\n",
            "\u001b[1mValidation Data :\u001b[0m\n",
            "\u001b[1mAccuarcy\u001b[0m 0.7253381066030231\n",
            "\u001b[1mPrecision\u001b[0m 0.6885389326334208\n",
            "\u001b[1mRecall   \u001b[0m 0.8294032406797524\n",
            "\u001b[1mF1_score \u001b[0m 0.7524350164326262\n",
            "\u001b[1mTest Data :\u001b[0m\n",
            "\u001b[1mAccuarcy\u001b[0m 0.7314324354784176\n",
            "\u001b[1mPrecision\u001b[0m 0.6957215237380372\n",
            "\u001b[1mRecall   \u001b[0m 0.8296039382412173\n",
            "\u001b[1mF1_score \u001b[0m 0.7567870994080425\n"
          ],
          "name": "stdout"
        }
      ]
    },
    {
      "cell_type": "markdown",
      "metadata": {
        "id": "zGgq-o8HKx76",
        "colab_type": "text"
      },
      "source": [
        "### ***The model with best performance is Random Forest***"
      ]
    }
  ]
}